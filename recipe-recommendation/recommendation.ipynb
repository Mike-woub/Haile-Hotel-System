{
 "cells": [
  {
   "cell_type": "code",
   "execution_count": 16,
   "metadata": {},
   "outputs": [],
   "source": [
    "from flask import Flask, request, jsonify\n",
    "from flask_ngrok import run_with_ngrok\n",
    "import json\n",
    "import pandas as pd\n",
    "from surprise import Dataset, Reader, SVD\n",
    "from surprise.model_selection import train_test_split\n",
    "from surprise.accuracy import rmse, mae\n",
    "from sklearn.feature_extraction.text import CountVectorizer\n",
    "from sklearn.metrics.pairwise import cosine_similarity\n",
    "import subprocess"
   ]
  },
  {
   "cell_type": "code",
   "execution_count": 17,
   "metadata": {},
   "outputs": [],
   "source": [
    "def update_user_profiles():\n",
    "    subprocess.run([\"php\", \"populate_user_profiles.php\"], check=True)\n",
    "    subprocess.run([\"php\", \"populate_menujson.php\"], check=True)"
   ]
  },
  {
   "cell_type": "code",
   "execution_count": 18,
   "metadata": {},
   "outputs": [],
   "source": [
    "def load_user_profiles():\n",
    "    global user_profiles\n",
    "    global recipes\n",
    "    \n",
    "    # Load user profiles\n",
    "    with open('users.json', 'r') as f:\n",
    "        user_profiles = json.load(f)\n",
    "    \n",
    "    # Load recipes\n",
    "    with open('menu.json', 'r') as file:\n",
    "        recipes = json.load(file)"
   ]
  },
  {
   "cell_type": "code",
   "execution_count": 19,
   "metadata": {},
   "outputs": [],
   "source": [
    "load_user_profiles()"
   ]
  },
  {
   "cell_type": "code",
   "execution_count": 20,
   "metadata": {},
   "outputs": [],
   "source": [
    "# Create DataFrame for user ratings\n",
    "ratings = []\n",
    "for user in user_profiles:\n",
    "    user_id = user['user_id']\n",
    "    for order in user['order_history']:\n",
    "        ratings.append({'user_id': user_id, 'recipe': order, 'rating': 5})  # Fixed rating for simplicity\n",
    "\n",
    "ratings_df = pd.DataFrame(ratings)\n",
    "recipe_df = pd.DataFrame(recipes)"
   ]
  },
  {
   "cell_type": "code",
   "execution_count": 21,
   "metadata": {},
   "outputs": [],
   "source": [
    "# Prepare data for Surprise library\n",
    "reader = Reader(rating_scale=(1, 5))\n",
    "data = Dataset.load_from_df(ratings_df[['user_id', 'recipe', 'rating']], reader)"
   ]
  },
  {
   "cell_type": "code",
   "execution_count": 22,
   "metadata": {},
   "outputs": [],
   "source": [
    "# Split data into training and test sets\n",
    "trainset, testset = train_test_split(data, test_size=0.2)"
   ]
  },
  {
   "cell_type": "code",
   "execution_count": 23,
   "metadata": {},
   "outputs": [
    {
     "data": {
      "text/plain": [
       "<surprise.prediction_algorithms.matrix_factorization.SVD at 0x207441700d0>"
      ]
     },
     "execution_count": 23,
     "metadata": {},
     "output_type": "execute_result"
    }
   ],
   "source": [
    "# Train the model using SVD\n",
    "model = SVD()\n",
    "model.fit(trainset)"
   ]
  },
  {
   "cell_type": "code",
   "execution_count": 24,
   "metadata": {},
   "outputs": [
    {
     "name": "stdout",
     "output_type": "stream",
     "text": [
      "RMSE: 0.0141\n",
      "RMSE: 0.014052266949775247\n",
      "MAE:  0.0112\n",
      "MAE: 0.011204452719823621\n"
     ]
    }
   ],
   "source": [
    "# Evaluate the model\n",
    "predictions = model.test(testset)\n",
    "print(f\"RMSE: {rmse(predictions)}\")\n",
    "print(f\"MAE: {mae(predictions)}\")"
   ]
  },
  {
   "cell_type": "code",
   "execution_count": 25,
   "metadata": {},
   "outputs": [],
   "source": [
    "# Function to compute content-based similarities\n",
    "def compute_content_similarity(df):\n",
    "    df['ingredients_str'] = df['ingredients'].apply(lambda x: ' '.join(x))\n",
    "    vectorizer = CountVectorizer()\n",
    "    ingredient_matrix = vectorizer.fit_transform(df['ingredients_str'])\n",
    "    return cosine_similarity(ingredient_matrix)\n"
   ]
  },
  {
   "cell_type": "code",
   "execution_count": 26,
   "metadata": {},
   "outputs": [],
   "source": [
    "# Function to recommend recipes for a user\n",
    "def recommend_recipes(user_id, num_recommendations=3):\n",
    "    # Check if user exists\n",
    "    if user_id not in ratings_df['user_id'].values:\n",
    "        return f\"User ID {user_id} not found.\"\n",
    "\n",
    "    user_ratings = ratings_df[ratings_df['user_id'] == user_id]\n",
    "    user_rated_recipes = user_ratings['recipe'].tolist()\n",
    "\n",
    "    # 1. Content-Based Recommendations\n",
    "    content_similarity = compute_content_similarity(recipe_df)\n",
    "\n",
    "    # 2. Similar Options\n",
    "    similar_recipes = []\n",
    "    for order in user_rated_recipes:\n",
    "        if order in recipe_df['dish_name'].values:\n",
    "            idx = recipe_df[recipe_df['dish_name'] == order].index[0]\n",
    "            similarity_scores = list(enumerate(content_similarity[idx]))\n",
    "            similarity_scores = sorted(similarity_scores, key=lambda x: x[1], reverse=True)\n",
    "\n",
    "            for i in similarity_scores:\n",
    "                similar_recipe_name = recipe_df['dish_name'].iloc[i[0]]\n",
    "                if similar_recipe_name not in user_rated_recipes:\n",
    "                    similar_recipes.append(similar_recipe_name)\n",
    "                    break\n",
    "\n",
    "    # 3. User Past Order Similarity\n",
    "    user_based_recommendations = []\n",
    "    for order in user_rated_recipes:\n",
    "        if order in recipe_df['dish_name'].values:\n",
    "            idx = recipe_df[recipe_df['dish_name'] == order].index[0]\n",
    "            similarity_scores = list(enumerate(content_similarity[idx]))\n",
    "            similarity_scores = sorted(similarity_scores, key=lambda x: x[1], reverse=True)\n",
    "            recommendations = [recipe_df['dish_name'].iloc[i[0]] for i in similarity_scores if recipe_df['dish_name'].iloc[i[0]] not in user_rated_recipes]\n",
    "            user_based_recommendations.extend(recommendations)\n",
    "\n",
    "    # 4. Trending Orders\n",
    "    trending_recipes = recipe_df.sort_values(by='order_count', ascending=False)['dish_name'].tolist()[:num_recommendations]\n",
    "\n",
    "    # 5. Combine Recommendations\n",
    "    combined_recommendations = set(similar_recipes + user_based_recommendations + trending_recipes)\n",
    "    # 6. Dynamic Suggestions\n",
    "    recipe_order_counts = ratings_df['recipe'].value_counts().to_dict()\n",
    "    recommendations_with_scores = []\n",
    "\n",
    "    for recipe in combined_recommendations:\n",
    "        est_rating = model.predict(user_id, recipe).est\n",
    "        est_rating += recipe_order_counts.get(recipe, 0)  # Boost by order count\n",
    "        \n",
    "        # Check user preferences\n",
    "        user_preferences = next((user['preferences'] for user in user_profiles if user['user_id'] == user_id), [])\n",
    "        if any(pref in recipe for pref in user_preferences):\n",
    "            est_rating += 1  # Boost for matching preferences\n",
    "\n",
    "        recommendations_with_scores.append((recipe, est_rating))\n",
    "\n",
    "    # Sort recommendations based on scores\n",
    "    recommendations_with_scores = sorted(recommendations_with_scores, key=lambda x: x[1], reverse=True)\n",
    "\n",
    "    # Return the top recommendations\n",
    "    return [rec[0] for rec in recommendations_with_scores[:num_recommendations]]\n"
   ]
  },
  {
   "cell_type": "code",
   "execution_count": null,
   "metadata": {},
   "outputs": [
    {
     "name": "stdout",
     "output_type": "stream",
     "text": [
      " * Serving Flask app '__main__'\n",
      " * Debug mode: off\n"
     ]
    },
    {
     "name": "stderr",
     "output_type": "stream",
     "text": [
      "WARNING: This is a development server. Do not use it in a production deployment. Use a production WSGI server instead.\n",
      " * Running on http://127.0.0.1:5000\n",
      "Press CTRL+C to quit\n"
     ]
    },
    {
     "name": "stdout",
     "output_type": "stream",
     "text": [
      " * Running on http://bbb0-104-254-89-53.ngrok-free.app\n",
      " * Traffic stats available on http://127.0.0.1:4040\n"
     ]
    },
    {
     "name": "stderr",
     "output_type": "stream",
     "text": [
      "127.0.0.1 - - [27/Jan/2025 03:27:55] \"GET /recommend?user_id=14&num_recommendations=3 HTTP/1.1\" 200 -\n",
      "127.0.0.1 - - [27/Jan/2025 03:28:26] \"GET /recommend?user_id=14&num_recommendations=6 HTTP/1.1\" 200 -\n",
      "127.0.0.1 - - [27/Jan/2025 03:28:41] \"GET /recommend?user_id=14&num_recommendations=3 HTTP/1.1\" 200 -\n"
     ]
    }
   ],
   "source": [
    "app = Flask(__name__)\n",
    "run_with_ngrok(app)  # Start ngrok when app is run\n",
    "\n",
    "@app.route('/recommend', methods=['GET'])\n",
    "def recommend():\n",
    "        # Update user profiles before processing recommendations\n",
    "   \n",
    "    # return \"hello\"\n",
    "    user_id = int(request.args.get('user_id'))\n",
    "    num_recommendations = int(request.args.get('num_recommendations', 3))\n",
    "    recommendations = recommend_recipes(user_id, num_recommendations)\n",
    "    return jsonify(recommendations)\n",
    "\n",
    "if __name__ == '__main__':\n",
    "    update_user_profiles()\n",
    "    load_user_profiles()\n",
    "    app.run()"
   ]
  }
 ],
 "metadata": {
  "kernelspec": {
   "display_name": "recipe-recommendation-py38",
   "language": "python",
   "name": "python3"
  },
  "language_info": {
   "codemirror_mode": {
    "name": "ipython",
    "version": 3
   },
   "file_extension": ".py",
   "mimetype": "text/x-python",
   "name": "python",
   "nbconvert_exporter": "python",
   "pygments_lexer": "ipython3",
   "version": "3.8.20"
  }
 },
 "nbformat": 4,
 "nbformat_minor": 2
}
